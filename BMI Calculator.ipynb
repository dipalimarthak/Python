{
 "cells": [
  {
   "cell_type": "markdown",
   "id": "91d7d30e",
   "metadata": {},
   "source": [
    "# BMI Calculator\n",
    "https://mercer-health.com/services/weight-management-center/bmi-calculator#:~:text=Body%20Mass%20Index%2C%20or%20BMI,inches%20x%20height%20in%20inches"
   ]
  },
  {
   "cell_type": "code",
   "execution_count": 1,
   "id": "b019194d",
   "metadata": {},
   "outputs": [
    {
     "name": "stdout",
     "output_type": "stream",
     "text": [
      "Enter your name: Dipali Marthak\n",
      "Enter your weight in kgs: 88\n",
      "Enter your height in cms: 165\n",
      "32.323232323232325\n"
     ]
    }
   ],
   "source": [
    "name = input(\"Enter your name: \")\n",
    "weight = int(input(\"Enter your weight in kgs: \"))\n",
    "height = int(input(\"Enter your height in cms: \"))\n",
    "BMI = (weight)/((height/100)**2)\n",
    "#weight/height^2\n",
    "print(BMI)"
   ]
  },
  {
   "cell_type": "markdown",
   "id": "398b61ef",
   "metadata": {},
   "source": [
    "Under 18.5\tUnderweight\tMinimal\n",
    "18.5 - 24.9\tNormal Weight\tMinimal\n",
    "25 - 29.9\tOverweight\tIncreased\n",
    "30 - 34.9\tObese\tHigh\n",
    "35 - 39.9\tSeverely Obese\tVery High\n",
    "40 and over\tMorbidly Obese\tExtremely High"
   ]
  },
  {
   "cell_type": "code",
   "execution_count": 3,
   "id": "2e43a1f8",
   "metadata": {},
   "outputs": [
    {
     "name": "stdout",
     "output_type": "stream",
     "text": [
      "Dipali Marthak, You are Obese\n"
     ]
    }
   ],
   "source": [
    "if BMI>0:\n",
    "    if(BMI<18.5):\n",
    "        print(name+\", You are Underweight\")\n",
    "    elif(BMI<=24.9):\n",
    "        print(name+\", You are Normal Weight\")\n",
    "    elif(BMI<29.9):\n",
    "        print(name+\", You are Overweight\")\n",
    "    elif(BMI<34.9):\n",
    "        print(name+\", You are Obese\")\n",
    "    elif(BMI<29.9):\n",
    "        print(name+\", You are Severely Obese\")\n",
    "    else:\n",
    "        print(name+\", You are Morbidly Obese\")\n",
    "else:\n",
    "    print(\"Enter valid input\")\n",
    "    "
   ]
  }
 ],
 "metadata": {
  "kernelspec": {
   "display_name": "Python 3 (ipykernel)",
   "language": "python",
   "name": "python3"
  },
  "language_info": {
   "codemirror_mode": {
    "name": "ipython",
    "version": 3
   },
   "file_extension": ".py",
   "mimetype": "text/x-python",
   "name": "python",
   "nbconvert_exporter": "python",
   "pygments_lexer": "ipython3",
   "version": "3.9.12"
  }
 },
 "nbformat": 4,
 "nbformat_minor": 5
}
