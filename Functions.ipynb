{
 "cells": [
  {
   "cell_type": "markdown",
   "id": "86713f50",
   "metadata": {},
   "source": [
    "# Functions"
   ]
  },
  {
   "cell_type": "code",
   "execution_count": 3,
   "id": "d246f05a",
   "metadata": {},
   "outputs": [
    {
     "name": "stdout",
     "output_type": "stream",
     "text": [
      "we did it!\n"
     ]
    }
   ],
   "source": [
    "def first_func():\n",
    "        print('we did it!')\n",
    "first_func()"
   ]
  },
  {
   "cell_type": "code",
   "execution_count": 5,
   "id": "58190808",
   "metadata": {},
   "outputs": [
    {
     "name": "stdout",
     "output_type": "stream",
     "text": [
      "27\n"
     ]
    }
   ],
   "source": [
    "def number_cubed(number):\n",
    "    print(number**3)\n",
    "number_cubed(3)"
   ]
  },
  {
   "cell_type": "code",
   "execution_count": 6,
   "id": "743a6752",
   "metadata": {},
   "outputs": [
    {
     "name": "stdout",
     "output_type": "stream",
     "text": [
      "125\n"
     ]
    }
   ],
   "source": [
    "number_cubed(5)"
   ]
  },
  {
   "cell_type": "code",
   "execution_count": 8,
   "id": "3bffaf7e",
   "metadata": {},
   "outputs": [
    {
     "name": "stdout",
     "output_type": "stream",
     "text": [
      "125\n"
     ]
    }
   ],
   "source": [
    "def number_to_power_cust(number,power):\n",
    "    print(number**power)\n",
    "number_to_power_cust(5,3)"
   ]
  },
  {
   "cell_type": "code",
   "execution_count": 10,
   "id": "e1e378c8",
   "metadata": {},
   "outputs": [
    {
     "name": "stdout",
     "output_type": "stream",
     "text": [
      "30\n"
     ]
    }
   ],
   "source": [
    "#arbitrary arguents - args specified when you run the function\n",
    "args_tuple = (5,6,1,2,8)\n",
    "def number_args(*number):\n",
    "    print(number[0]*number[1])\n",
    "number_args(*args_tuple)"
   ]
  },
  {
   "cell_type": "markdown",
   "id": "8e97516e",
   "metadata": {},
   "source": [
    "# keyword arguments"
   ]
  },
  {
   "cell_type": "code",
   "execution_count": 15,
   "id": "b6c3d46c",
   "metadata": {},
   "outputs": [
    {
     "name": "stdout",
     "output_type": "stream",
     "text": [
      "125\n"
     ]
    }
   ],
   "source": [
    "def number_squared_cust(power, number):\n",
    "    print(power ** number)\n",
    "number_squared_cust(power = 5, number =  3)"
   ]
  },
  {
   "cell_type": "code",
   "execution_count": 17,
   "id": "ff9bfe08",
   "metadata": {},
   "outputs": [
    {
     "name": "stdout",
     "output_type": "stream",
     "text": [
      "30\n"
     ]
    }
   ],
   "source": [
    "args_tuple = (5,6,1,2,8)\n",
    "def number_args(*number):\n",
    "    print(number[0]*number[1])\n",
    "    \n",
    "number_args(*args_tuple)"
   ]
  },
  {
   "cell_type": "code",
   "execution_count": 18,
   "id": "93c90bd3",
   "metadata": {},
   "outputs": [
    {
     "name": "stdout",
     "output_type": "stream",
     "text": [
      "243\n"
     ]
    }
   ],
   "source": [
    "def number_squared_cust(number,power):\n",
    "    print(number**power)\n",
    "number_squared_cust(power = 5,number = 3)\n"
   ]
  },
  {
   "cell_type": "code",
   "execution_count": 22,
   "id": "dd02ec01",
   "metadata": {},
   "outputs": [
    {
     "name": "stdout",
     "output_type": "stream",
     "text": [
      "My number is : 1234My old number: 78910\n"
     ]
    }
   ],
   "source": [
    "def number_key_word_arg(**number):\n",
    "    print('My number is : ' + number['integer'] + 'My old number: ' + number['integer2'])\n",
    "number_key_word_arg(integer = '1234', integer2 = '78910')"
   ]
  }
 ],
 "metadata": {
  "kernelspec": {
   "display_name": "Python 3 (ipykernel)",
   "language": "python",
   "name": "python3"
  },
  "language_info": {
   "codemirror_mode": {
    "name": "ipython",
    "version": 3
   },
   "file_extension": ".py",
   "mimetype": "text/x-python",
   "name": "python",
   "nbconvert_exporter": "python",
   "pygments_lexer": "ipython3",
   "version": "3.9.12"
  }
 },
 "nbformat": 4,
 "nbformat_minor": 5
}
