{
 "cells": [
  {
   "cell_type": "code",
   "execution_count": 51,
   "id": "1d812a15",
   "metadata": {},
   "outputs": [],
   "source": [
    "import os, shutil\n",
    "#shutil will allow high level ops in file explorer\n",
    "path = r\"C:/Users/marth/Python Files/\"\n",
    "#r converts to raw text, / is important for sub folder\n"
   ]
  },
  {
   "cell_type": "code",
   "execution_count": 53,
   "id": "4094b069",
   "metadata": {},
   "outputs": [],
   "source": [
    "file_names = os.listdir(path)"
   ]
  },
  {
   "cell_type": "code",
   "execution_count": 55,
   "id": "ff3b5d18",
   "metadata": {},
   "outputs": [],
   "source": [
    "folder_names = ['python files','image files', 'text files']\n",
    "for loop in range(0,3):\n",
    "    if not os.path.exists(path + folder_names[loop]):\n",
    "        print(path + folder_names[loop])\n",
    "        os.makedirs(path + folder_names[loop])"
   ]
  },
  {
   "cell_type": "code",
   "execution_count": 47,
   "id": "ce39a7ad",
   "metadata": {},
   "outputs": [
    {
     "data": {
      "text/plain": [
       "['dummyfile.txt.txt',\n",
       " 'image files',\n",
       " 'python files',\n",
       " 'screenshot image.jpg.jpg',\n",
       " 'text files']"
      ]
     },
     "execution_count": 47,
     "metadata": {},
     "output_type": "execute_result"
    }
   ],
   "source": [
    "os.listdir(path)"
   ]
  },
  {
   "cell_type": "code",
   "execution_count": 48,
   "id": "8b4c046f",
   "metadata": {},
   "outputs": [
    {
     "data": {
      "text/plain": [
       "str"
      ]
     },
     "execution_count": 48,
     "metadata": {},
     "output_type": "execute_result"
    }
   ],
   "source": [
    "type(file_names[0])"
   ]
  },
  {
   "cell_type": "code",
   "execution_count": 57,
   "id": "78907c28",
   "metadata": {},
   "outputs": [
    {
     "name": "stdout",
     "output_type": "stream",
     "text": [
      "There are files in this path that were not moved\n",
      "There are files in this path that were not moved\n",
      "There are files in this path that were not moved\n",
      "There are files in this path that were not moved\n",
      "There are files in this path that were not moved\n",
      "There are files in this path that were not moved\n",
      "There are files in this path that were not moved\n"
     ]
    }
   ],
   "source": [
    "for file in file_names:\n",
    "    if \".ipynb\" in file and not os.path.exists(path+\"python files/\" +file):\n",
    "        shutil.move(path + file, path + \"python files/\" + file)\n",
    "    elif \".txt\" in file and not os.path.exists(path+\"text files/\" +file):\n",
    "        shutil.move(path + file, path + \"text files/\" + file)\n",
    "    elif \".jpeg\" in file and not os.path.exists(path+\"image files/\" +file):\n",
    "        shutil.move(path + file , path + \"image files/\" + file)\n",
    "    else:\n",
    "        print(\"There are files in this path that were not moved\")"
   ]
  },
  {
   "cell_type": "code",
   "execution_count": null,
   "id": "9b892e34",
   "metadata": {},
   "outputs": [],
   "source": []
  }
 ],
 "metadata": {
  "kernelspec": {
   "display_name": "Python 3 (ipykernel)",
   "language": "python",
   "name": "python3"
  },
  "language_info": {
   "codemirror_mode": {
    "name": "ipython",
    "version": 3
   },
   "file_extension": ".py",
   "mimetype": "text/x-python",
   "name": "python",
   "nbconvert_exporter": "python",
   "pygments_lexer": "ipython3",
   "version": "3.9.12"
  }
 },
 "nbformat": 4,
 "nbformat_minor": 5
}
