{
 "cells": [
  {
   "cell_type": "markdown",
   "id": "e63b862c",
   "metadata": {},
   "source": [
    "# For Loops"
   ]
  },
  {
   "cell_type": "code",
   "execution_count": 1,
   "id": "10e0b10f",
   "metadata": {},
   "outputs": [
    {
     "name": "stdout",
     "output_type": "stream",
     "text": [
      "1\n",
      "2\n",
      "3\n",
      "4\n",
      "5\n"
     ]
    }
   ],
   "source": [
    "integers = [1,2,3,4,5]\n",
    "\n",
    "for number in integers:\n",
    "    print(number)"
   ]
  },
  {
   "cell_type": "code",
   "execution_count": 4,
   "id": "3bcad900",
   "metadata": {},
   "outputs": [
    {
     "name": "stdout",
     "output_type": "stream",
     "text": [
      "yep!\n",
      "yep!\n",
      "yep!\n",
      "yep!\n",
      "yep!\n",
      "Jelly!\n",
      "Jelly!\n",
      "Jelly!\n",
      "Jelly!\n",
      "Jelly!\n"
     ]
    }
   ],
   "source": [
    "for number in integers:\n",
    "    print('yep!')\n",
    "for Jelly in integers:\n",
    "    print('Jelly!')"
   ]
  },
  {
   "cell_type": "code",
   "execution_count": 3,
   "id": "f9828a71",
   "metadata": {},
   "outputs": [],
   "source": [
    "integers = [1,2,3,4,5]"
   ]
  },
  {
   "cell_type": "code",
   "execution_count": 6,
   "id": "b86a9abf",
   "metadata": {},
   "outputs": [
    {
     "name": "stdout",
     "output_type": "stream",
     "text": [
      "Dipali M\n",
      "5\n",
      "['Chocolate', 'Mango']\n"
     ]
    }
   ],
   "source": [
    "ice_cream_dict = {'name':'Dipali M', 'weekly intake': 5, 'favourite ice creams': ['Chocolate','Mango']}\n",
    "for cream in ice_cream_dict.values():\n",
    "    print(cream)"
   ]
  },
  {
   "cell_type": "code",
   "execution_count": 8,
   "id": "57173112",
   "metadata": {},
   "outputs": [
    {
     "name": "stdout",
     "output_type": "stream",
     "text": [
      "name and  Dipali M\n",
      "weekly intake and  5\n",
      "favourite ice creams and  ['Chocolate', 'Mango']\n"
     ]
    }
   ],
   "source": [
    "for key,value in ice_cream_dict.items():\n",
    "    print(key, 'and ', value)"
   ]
  },
  {
   "cell_type": "markdown",
   "id": "04351a3a",
   "metadata": {},
   "source": [
    "# Nested For Loops"
   ]
  },
  {
   "cell_type": "code",
   "execution_count": 9,
   "id": "43b2007f",
   "metadata": {},
   "outputs": [
    {
     "name": "stdout",
     "output_type": "stream",
     "text": [
      "Vanilla topped with Hot Fudge\n",
      "Vanilla topped with Oreos\n",
      "Vanilla topped with Marshmallows\n",
      "Chocolate topped with Hot Fudge\n",
      "Chocolate topped with Oreos\n",
      "Chocolate topped with Marshmallows\n",
      "Mango topped with Hot Fudge\n",
      "Mango topped with Oreos\n",
      "Mango topped with Marshmallows\n"
     ]
    }
   ],
   "source": [
    "flavors = ['Vanilla', 'Chocolate', 'Mango']\n",
    "toppings = ['Hot Fudge', 'Oreos', 'Marshmallows']\n",
    "\n",
    "for one in flavors:\n",
    "    for two in toppings:\n",
    "        print(one, \"topped with\", two)"
   ]
  },
  {
   "cell_type": "code",
   "execution_count": null,
   "id": "cbe53b9c",
   "metadata": {},
   "outputs": [],
   "source": []
  },
  {
   "cell_type": "code",
   "execution_count": null,
   "id": "69f31899",
   "metadata": {},
   "outputs": [],
   "source": []
  }
 ],
 "metadata": {
  "kernelspec": {
   "display_name": "Python 3 (ipykernel)",
   "language": "python",
   "name": "python3"
  },
  "language_info": {
   "codemirror_mode": {
    "name": "ipython",
    "version": 3
   },
   "file_extension": ".py",
   "mimetype": "text/x-python",
   "name": "python",
   "nbconvert_exporter": "python",
   "pygments_lexer": "ipython3",
   "version": "3.9.12"
  }
 },
 "nbformat": 4,
 "nbformat_minor": 5
}
